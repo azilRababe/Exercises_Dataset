{
 "cells": [
  {
   "cell_type": "markdown",
   "metadata": {},
   "source": [
    "## Calorie Calculator"
   ]
  },
  {
   "cell_type": "code",
   "execution_count": 1,
   "metadata": {},
   "outputs": [],
   "source": [
    "# change this to your own personal data\n",
    "weight_kg = 60\n",
    "height_cm = 160\n",
    "age = 24\n"
   ]
  },
  {
   "cell_type": "code",
   "execution_count": 2,
   "metadata": {},
   "outputs": [],
   "source": [
    "# activity level (do not change this values unless you know what you are doing)\n",
    "\n",
    "sedentary = 1.2 # inactive job + very rare or minimal exercise\n",
    "light = 1.375 # light exercise/sports 1-3 days/week\n",
    "moderate = 1.55 # moderate exercise/sports 3-5 days/week\n",
    "active = 1.725 # hard exercise/sports 6-7 days a week\n",
    "very_active = 1.9 # very hard exercise/sports & physical job or 2x training\n",
    "\n",
    "activity_levels = {\n",
    "    \"sedentary\": sedentary,\n",
    "    \"light\": light,\n",
    "    \"moderate\": moderate,\n",
    "    \"active\": active,\n",
    "    \"very_active\": very_active\n",
    "}"
   ]
  },
  {
   "cell_type": "code",
   "execution_count": 3,
   "metadata": {},
   "outputs": [],
   "source": [
    "def calorie_message(calories):\n",
    "    maintenance = f\"To keep rocking your current weight, aim for {round(calories)} calories a day! 🎯\"\n",
    "    lose_weight = f\"Ready to shed some pounds? Go for {round(calories) - 500} calories a day—you're on fire! 🔥\"\n",
    "    gain_weight = f\"Bulking up? Fuel up with {round(calories) + 500} calories daily—let's get those gains! 💪\"\n",
    "\n",
    "    for message in [maintenance, lose_weight, gain_weight]:\n",
    "        print(message)"
   ]
  },
  {
   "cell_type": "code",
   "execution_count": 4,
   "metadata": {},
   "outputs": [
    {
     "name": "stdout",
     "output_type": "stream",
     "text": [
      "To keep rocking your current weight, aim for 2190 calories a day! 🎯\n",
      "Ready to shed some pounds? Go for 1690 calories a day—you're on fire! 🔥\n",
      "Bulking up? Fuel up with 2690 calories daily—let's get those gains! 💪\n"
     ]
    }
   ],
   "source": [
    "# if you are a female, you will use the following formula:\n",
    "BMR= 655.1 + (9.563 * weight_kg) + (1.850 * height_cm) - (4.676 * age)\n",
    "calories = BMR * activity_levels['moderate'] # change the index to the activity level based on the list above\n",
    "\n",
    "calorie_message(calories)"
   ]
  },
  {
   "cell_type": "code",
   "execution_count": 5,
   "metadata": {},
   "outputs": [
    {
     "name": "stdout",
     "output_type": "stream",
     "text": [
      "To keep rocking your current weight, aim for 2371 calories a day! 🎯\n",
      "Ready to shed some pounds? Go for 1871 calories a day—you're on fire! 🔥\n",
      "Bulking up? Fuel up with 2871 calories daily—let's get those gains! 💪\n"
     ]
    }
   ],
   "source": [
    "# if you are a male you will use the following formula:\n",
    "BMR= 66.5 + (13.75 * weight_kg) + (5 * height_cm) - (6.75 * age)\n",
    "calories = BMR * activity_levels['moderate'] # change the index to the activity level based on the list above\n",
    "\n",
    "calorie_message(calories)"
   ]
  }
 ],
 "metadata": {
  "kernelspec": {
   "display_name": "scraping_env",
   "language": "python",
   "name": "python3"
  },
  "language_info": {
   "codemirror_mode": {
    "name": "ipython",
    "version": 3
   },
   "file_extension": ".py",
   "mimetype": "text/x-python",
   "name": "python",
   "nbconvert_exporter": "python",
   "pygments_lexer": "ipython3",
   "version": "3.12.3"
  }
 },
 "nbformat": 4,
 "nbformat_minor": 2
}
