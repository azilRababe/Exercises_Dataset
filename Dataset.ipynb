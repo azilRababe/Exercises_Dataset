{
 "cells": [
  {
   "cell_type": "code",
   "execution_count": 143,
   "metadata": {},
   "outputs": [],
   "source": [
    "import requests\n",
    "from bs4 import BeautifulSoup\n",
    "import pandas as pd"
   ]
  },
  {
   "cell_type": "code",
   "execution_count": 144,
   "metadata": {},
   "outputs": [],
   "source": [
    "HEADERS = {\n",
    "    'Accept': '*/*',\n",
    "    'Accept-Encoding': 'gzip, deflate, br, zstd',\n",
    "    'Accept-Language': 'en-US,en;q=0.5',\n",
    "    'User-Agent': 'Mozilla/5.0 (X11; Ubuntu; Linux x86_64; rv:130.0) Gecko/20100101 Firefox/130.0'\n",
    "}"
   ]
  },
  {
   "cell_type": "code",
   "execution_count": 145,
   "metadata": {},
   "outputs": [],
   "source": [
    "def get_content(url):\n",
    "    response = requests.get(url, headers=HEADERS)\n",
    "    if response.status_code == 200:\n",
    "        return BeautifulSoup(response.content, 'lxml')\n",
    "    else:\n",
    "        print(f\"Failed to retrieve the webpage. Status code: {response.status_code}\")\n",
    "        return None"
   ]
  },
  {
   "cell_type": "code",
   "execution_count": 146,
   "metadata": {},
   "outputs": [],
   "source": [
    "data_list=[]\n",
    "\n",
    "def get_url(query,page=1):\n",
    "    while True:\n",
    "        url=f'https://fitnessprogramer.com/exercise-primary-muscle/{query}/page/{page}/'\n",
    "        # print(f\"Scraping page {page} at URL: {url}\")\n",
    "\n",
    "        gifs = get_content(url).find_all('div', class_='thumbnails')\n",
    "\n",
    "        for gif in gifs:\n",
    "            title = gif.find('img')['alt']\n",
    "            src = gif.find('img')['src']\n",
    "\n",
    "            data_list.append({'title': title, 'src': src})\n",
    "            \n",
    "\n",
    "        next_page = get_content(url).find('a', class_='next') \n",
    "        if next_page and 'href' in next_page.attrs:\n",
    "            page += 1\n",
    "        else:\n",
    "            # print(\"No more pages to scrape.\")\n",
    "            break       \n",
    "    "
   ]
  },
  {
   "cell_type": "code",
   "execution_count": 147,
   "metadata": {},
   "outputs": [],
   "source": [
    "data_list.clear() # clear the list before appending new data"
   ]
  },
  {
   "cell_type": "code",
   "execution_count": 148,
   "metadata": {},
   "outputs": [],
   "source": [
    "def scrape(query):\n",
    "    \n",
    "    data=get_url(query)\n",
    "    data=pd.DataFrame(data_list)\n",
    "\n",
    "    print(data.head(10).to_string(index=False)) # for testing purposes\n",
    "    # data.to_csv(f'{query}_exercises.csv', index=False) # uncomment this line to save the data to a csv file"
   ]
  },
  {
   "cell_type": "code",
   "execution_count": 149,
   "metadata": {},
   "outputs": [
    {
     "name": "stdout",
     "output_type": "stream",
     "text": [
      "                        title                                                                                             src\n",
      "Weighted Lateral Neck Flexion https://fitnessprogramer.com/wp-content/uploads/2022/02/Lying-Weighted-Lateral-Neck-Flexion.gif\n",
      "Weighted Lying Neck Extension       https://fitnessprogramer.com/wp-content/uploads/2021/08/Weighted-Lying-Neck-Extension.gif\n",
      "  Weighted Lying Neck Flexion         https://fitnessprogramer.com/wp-content/uploads/2021/08/Weighted-Lying-Neck-Flexion.gif\n",
      "              Gittleson Shrug     https://fitnessprogramer.com/wp-content/uploads/2022/01/Dumbbell-Seated-Gittleson-Shrug.gif\n",
      "        Diagonal Neck Stretch       https://fitnessprogramer.com/wp-content/uploads/2021/07/Diagonal-Neck-Stretch-360x360.png\n",
      "        Neck Rotation Stretch               https://fitnessprogramer.com/wp-content/uploads/2021/07/Rotating-Neck-Stretch.gif\n",
      "         Neck Flexion Stretch        https://fitnessprogramer.com/wp-content/uploads/2021/07/Neck-Flexion-Stretch-360x360.png\n",
      "       Neck Extension Stretch   https://fitnessprogramer.com/wp-content/uploads/2021/07/Neck-Extension-Stretching-360x360.png\n",
      "            Side Neck Stretch                   https://fitnessprogramer.com/wp-content/uploads/2021/06/Side-Neck-Stretch.gif\n",
      "       Side Push Neck Stretch              https://fitnessprogramer.com/wp-content/uploads/2021/06/Side-Push-Neck-Stretch.gif\n"
     ]
    }
   ],
   "source": [
    "# neck exercises\n",
    "scrape('neck')"
   ]
  },
  {
   "cell_type": "code",
   "execution_count": 150,
   "metadata": {},
   "outputs": [
    {
     "name": "stdout",
     "output_type": "stream",
     "text": [
      "                        title                                                                                             src\n",
      "Weighted Lateral Neck Flexion https://fitnessprogramer.com/wp-content/uploads/2022/02/Lying-Weighted-Lateral-Neck-Flexion.gif\n",
      "Weighted Lying Neck Extension       https://fitnessprogramer.com/wp-content/uploads/2021/08/Weighted-Lying-Neck-Extension.gif\n",
      "  Weighted Lying Neck Flexion         https://fitnessprogramer.com/wp-content/uploads/2021/08/Weighted-Lying-Neck-Flexion.gif\n",
      "              Gittleson Shrug     https://fitnessprogramer.com/wp-content/uploads/2022/01/Dumbbell-Seated-Gittleson-Shrug.gif\n",
      "        Diagonal Neck Stretch       https://fitnessprogramer.com/wp-content/uploads/2021/07/Diagonal-Neck-Stretch-360x360.png\n",
      "        Neck Rotation Stretch               https://fitnessprogramer.com/wp-content/uploads/2021/07/Rotating-Neck-Stretch.gif\n",
      "         Neck Flexion Stretch        https://fitnessprogramer.com/wp-content/uploads/2021/07/Neck-Flexion-Stretch-360x360.png\n",
      "       Neck Extension Stretch   https://fitnessprogramer.com/wp-content/uploads/2021/07/Neck-Extension-Stretching-360x360.png\n",
      "            Side Neck Stretch                   https://fitnessprogramer.com/wp-content/uploads/2021/06/Side-Neck-Stretch.gif\n",
      "       Side Push Neck Stretch              https://fitnessprogramer.com/wp-content/uploads/2021/06/Side-Push-Neck-Stretch.gif\n"
     ]
    }
   ],
   "source": [
    "# trapezius exercises\n",
    "scrape('neck')"
   ]
  },
  {
   "cell_type": "code",
   "execution_count": 151,
   "metadata": {},
   "outputs": [
    {
     "name": "stdout",
     "output_type": "stream",
     "text": [
      "                        title                                                                                             src\n",
      "Weighted Lateral Neck Flexion https://fitnessprogramer.com/wp-content/uploads/2022/02/Lying-Weighted-Lateral-Neck-Flexion.gif\n",
      "Weighted Lying Neck Extension       https://fitnessprogramer.com/wp-content/uploads/2021/08/Weighted-Lying-Neck-Extension.gif\n",
      "  Weighted Lying Neck Flexion         https://fitnessprogramer.com/wp-content/uploads/2021/08/Weighted-Lying-Neck-Flexion.gif\n",
      "              Gittleson Shrug     https://fitnessprogramer.com/wp-content/uploads/2022/01/Dumbbell-Seated-Gittleson-Shrug.gif\n",
      "        Diagonal Neck Stretch       https://fitnessprogramer.com/wp-content/uploads/2021/07/Diagonal-Neck-Stretch-360x360.png\n",
      "        Neck Rotation Stretch               https://fitnessprogramer.com/wp-content/uploads/2021/07/Rotating-Neck-Stretch.gif\n",
      "         Neck Flexion Stretch        https://fitnessprogramer.com/wp-content/uploads/2021/07/Neck-Flexion-Stretch-360x360.png\n",
      "       Neck Extension Stretch   https://fitnessprogramer.com/wp-content/uploads/2021/07/Neck-Extension-Stretching-360x360.png\n",
      "            Side Neck Stretch                   https://fitnessprogramer.com/wp-content/uploads/2021/06/Side-Neck-Stretch.gif\n",
      "       Side Push Neck Stretch              https://fitnessprogramer.com/wp-content/uploads/2021/06/Side-Push-Neck-Stretch.gif\n"
     ]
    }
   ],
   "source": [
    "# shoulders exercises\n",
    "scrape('shoulders')"
   ]
  },
  {
   "cell_type": "code",
   "execution_count": 152,
   "metadata": {},
   "outputs": [
    {
     "name": "stdout",
     "output_type": "stream",
     "text": [
      "                        title                                                                                             src\n",
      "Weighted Lateral Neck Flexion https://fitnessprogramer.com/wp-content/uploads/2022/02/Lying-Weighted-Lateral-Neck-Flexion.gif\n",
      "Weighted Lying Neck Extension       https://fitnessprogramer.com/wp-content/uploads/2021/08/Weighted-Lying-Neck-Extension.gif\n",
      "  Weighted Lying Neck Flexion         https://fitnessprogramer.com/wp-content/uploads/2021/08/Weighted-Lying-Neck-Flexion.gif\n",
      "              Gittleson Shrug     https://fitnessprogramer.com/wp-content/uploads/2022/01/Dumbbell-Seated-Gittleson-Shrug.gif\n",
      "        Diagonal Neck Stretch       https://fitnessprogramer.com/wp-content/uploads/2021/07/Diagonal-Neck-Stretch-360x360.png\n",
      "        Neck Rotation Stretch               https://fitnessprogramer.com/wp-content/uploads/2021/07/Rotating-Neck-Stretch.gif\n",
      "         Neck Flexion Stretch        https://fitnessprogramer.com/wp-content/uploads/2021/07/Neck-Flexion-Stretch-360x360.png\n",
      "       Neck Extension Stretch   https://fitnessprogramer.com/wp-content/uploads/2021/07/Neck-Extension-Stretching-360x360.png\n",
      "            Side Neck Stretch                   https://fitnessprogramer.com/wp-content/uploads/2021/06/Side-Neck-Stretch.gif\n",
      "       Side Push Neck Stretch              https://fitnessprogramer.com/wp-content/uploads/2021/06/Side-Push-Neck-Stretch.gif\n"
     ]
    }
   ],
   "source": [
    "# chest exercises\n",
    "scrape('chest')"
   ]
  },
  {
   "cell_type": "code",
   "execution_count": 153,
   "metadata": {},
   "outputs": [
    {
     "name": "stdout",
     "output_type": "stream",
     "text": [
      "                        title                                                                                             src\n",
      "Weighted Lateral Neck Flexion https://fitnessprogramer.com/wp-content/uploads/2022/02/Lying-Weighted-Lateral-Neck-Flexion.gif\n",
      "Weighted Lying Neck Extension       https://fitnessprogramer.com/wp-content/uploads/2021/08/Weighted-Lying-Neck-Extension.gif\n",
      "  Weighted Lying Neck Flexion         https://fitnessprogramer.com/wp-content/uploads/2021/08/Weighted-Lying-Neck-Flexion.gif\n",
      "              Gittleson Shrug     https://fitnessprogramer.com/wp-content/uploads/2022/01/Dumbbell-Seated-Gittleson-Shrug.gif\n",
      "        Diagonal Neck Stretch       https://fitnessprogramer.com/wp-content/uploads/2021/07/Diagonal-Neck-Stretch-360x360.png\n",
      "        Neck Rotation Stretch               https://fitnessprogramer.com/wp-content/uploads/2021/07/Rotating-Neck-Stretch.gif\n",
      "         Neck Flexion Stretch        https://fitnessprogramer.com/wp-content/uploads/2021/07/Neck-Flexion-Stretch-360x360.png\n",
      "       Neck Extension Stretch   https://fitnessprogramer.com/wp-content/uploads/2021/07/Neck-Extension-Stretching-360x360.png\n",
      "            Side Neck Stretch                   https://fitnessprogramer.com/wp-content/uploads/2021/06/Side-Neck-Stretch.gif\n",
      "       Side Push Neck Stretch              https://fitnessprogramer.com/wp-content/uploads/2021/06/Side-Push-Neck-Stretch.gif\n"
     ]
    }
   ],
   "source": [
    "# back exercises\n",
    "scrape('back')"
   ]
  },
  {
   "cell_type": "code",
   "execution_count": 154,
   "metadata": {},
   "outputs": [
    {
     "name": "stdout",
     "output_type": "stream",
     "text": [
      "                        title                                                                                             src\n",
      "Weighted Lateral Neck Flexion https://fitnessprogramer.com/wp-content/uploads/2022/02/Lying-Weighted-Lateral-Neck-Flexion.gif\n",
      "Weighted Lying Neck Extension       https://fitnessprogramer.com/wp-content/uploads/2021/08/Weighted-Lying-Neck-Extension.gif\n",
      "  Weighted Lying Neck Flexion         https://fitnessprogramer.com/wp-content/uploads/2021/08/Weighted-Lying-Neck-Flexion.gif\n",
      "              Gittleson Shrug     https://fitnessprogramer.com/wp-content/uploads/2022/01/Dumbbell-Seated-Gittleson-Shrug.gif\n",
      "        Diagonal Neck Stretch       https://fitnessprogramer.com/wp-content/uploads/2021/07/Diagonal-Neck-Stretch-360x360.png\n",
      "        Neck Rotation Stretch               https://fitnessprogramer.com/wp-content/uploads/2021/07/Rotating-Neck-Stretch.gif\n",
      "         Neck Flexion Stretch        https://fitnessprogramer.com/wp-content/uploads/2021/07/Neck-Flexion-Stretch-360x360.png\n",
      "       Neck Extension Stretch   https://fitnessprogramer.com/wp-content/uploads/2021/07/Neck-Extension-Stretching-360x360.png\n",
      "            Side Neck Stretch                   https://fitnessprogramer.com/wp-content/uploads/2021/06/Side-Neck-Stretch.gif\n",
      "       Side Push Neck Stretch              https://fitnessprogramer.com/wp-content/uploads/2021/06/Side-Push-Neck-Stretch.gif\n"
     ]
    }
   ],
   "source": [
    "# erector-spinae exercises\n",
    "scrape('erector-spinae')"
   ]
  },
  {
   "cell_type": "code",
   "execution_count": 155,
   "metadata": {},
   "outputs": [
    {
     "name": "stdout",
     "output_type": "stream",
     "text": [
      "                        title                                                                                             src\n",
      "Weighted Lateral Neck Flexion https://fitnessprogramer.com/wp-content/uploads/2022/02/Lying-Weighted-Lateral-Neck-Flexion.gif\n",
      "Weighted Lying Neck Extension       https://fitnessprogramer.com/wp-content/uploads/2021/08/Weighted-Lying-Neck-Extension.gif\n",
      "  Weighted Lying Neck Flexion         https://fitnessprogramer.com/wp-content/uploads/2021/08/Weighted-Lying-Neck-Flexion.gif\n",
      "              Gittleson Shrug     https://fitnessprogramer.com/wp-content/uploads/2022/01/Dumbbell-Seated-Gittleson-Shrug.gif\n",
      "        Diagonal Neck Stretch       https://fitnessprogramer.com/wp-content/uploads/2021/07/Diagonal-Neck-Stretch-360x360.png\n",
      "        Neck Rotation Stretch               https://fitnessprogramer.com/wp-content/uploads/2021/07/Rotating-Neck-Stretch.gif\n",
      "         Neck Flexion Stretch        https://fitnessprogramer.com/wp-content/uploads/2021/07/Neck-Flexion-Stretch-360x360.png\n",
      "       Neck Extension Stretch   https://fitnessprogramer.com/wp-content/uploads/2021/07/Neck-Extension-Stretching-360x360.png\n",
      "            Side Neck Stretch                   https://fitnessprogramer.com/wp-content/uploads/2021/06/Side-Neck-Stretch.gif\n",
      "       Side Push Neck Stretch              https://fitnessprogramer.com/wp-content/uploads/2021/06/Side-Push-Neck-Stretch.gif\n"
     ]
    }
   ],
   "source": [
    "# biceps exercises\n",
    "scrape('biceps')"
   ]
  },
  {
   "cell_type": "code",
   "execution_count": 156,
   "metadata": {},
   "outputs": [
    {
     "name": "stdout",
     "output_type": "stream",
     "text": [
      "                        title                                                                                             src\n",
      "Weighted Lateral Neck Flexion https://fitnessprogramer.com/wp-content/uploads/2022/02/Lying-Weighted-Lateral-Neck-Flexion.gif\n",
      "Weighted Lying Neck Extension       https://fitnessprogramer.com/wp-content/uploads/2021/08/Weighted-Lying-Neck-Extension.gif\n",
      "  Weighted Lying Neck Flexion         https://fitnessprogramer.com/wp-content/uploads/2021/08/Weighted-Lying-Neck-Flexion.gif\n",
      "              Gittleson Shrug     https://fitnessprogramer.com/wp-content/uploads/2022/01/Dumbbell-Seated-Gittleson-Shrug.gif\n",
      "        Diagonal Neck Stretch       https://fitnessprogramer.com/wp-content/uploads/2021/07/Diagonal-Neck-Stretch-360x360.png\n",
      "        Neck Rotation Stretch               https://fitnessprogramer.com/wp-content/uploads/2021/07/Rotating-Neck-Stretch.gif\n",
      "         Neck Flexion Stretch        https://fitnessprogramer.com/wp-content/uploads/2021/07/Neck-Flexion-Stretch-360x360.png\n",
      "       Neck Extension Stretch   https://fitnessprogramer.com/wp-content/uploads/2021/07/Neck-Extension-Stretching-360x360.png\n",
      "            Side Neck Stretch                   https://fitnessprogramer.com/wp-content/uploads/2021/06/Side-Neck-Stretch.gif\n",
      "       Side Push Neck Stretch              https://fitnessprogramer.com/wp-content/uploads/2021/06/Side-Push-Neck-Stretch.gif\n"
     ]
    }
   ],
   "source": [
    "# triceps exercises\n",
    "scrape('triceps')"
   ]
  },
  {
   "cell_type": "code",
   "execution_count": 157,
   "metadata": {},
   "outputs": [
    {
     "name": "stdout",
     "output_type": "stream",
     "text": [
      "                        title                                                                                             src\n",
      "Weighted Lateral Neck Flexion https://fitnessprogramer.com/wp-content/uploads/2022/02/Lying-Weighted-Lateral-Neck-Flexion.gif\n",
      "Weighted Lying Neck Extension       https://fitnessprogramer.com/wp-content/uploads/2021/08/Weighted-Lying-Neck-Extension.gif\n",
      "  Weighted Lying Neck Flexion         https://fitnessprogramer.com/wp-content/uploads/2021/08/Weighted-Lying-Neck-Flexion.gif\n",
      "              Gittleson Shrug     https://fitnessprogramer.com/wp-content/uploads/2022/01/Dumbbell-Seated-Gittleson-Shrug.gif\n",
      "        Diagonal Neck Stretch       https://fitnessprogramer.com/wp-content/uploads/2021/07/Diagonal-Neck-Stretch-360x360.png\n",
      "        Neck Rotation Stretch               https://fitnessprogramer.com/wp-content/uploads/2021/07/Rotating-Neck-Stretch.gif\n",
      "         Neck Flexion Stretch        https://fitnessprogramer.com/wp-content/uploads/2021/07/Neck-Flexion-Stretch-360x360.png\n",
      "       Neck Extension Stretch   https://fitnessprogramer.com/wp-content/uploads/2021/07/Neck-Extension-Stretching-360x360.png\n",
      "            Side Neck Stretch                   https://fitnessprogramer.com/wp-content/uploads/2021/06/Side-Neck-Stretch.gif\n",
      "       Side Push Neck Stretch              https://fitnessprogramer.com/wp-content/uploads/2021/06/Side-Push-Neck-Stretch.gif\n"
     ]
    }
   ],
   "source": [
    "# forearm exercises\n",
    "scrape('forearm')"
   ]
  },
  {
   "cell_type": "code",
   "execution_count": 158,
   "metadata": {},
   "outputs": [
    {
     "name": "stdout",
     "output_type": "stream",
     "text": [
      "                        title                                                                                             src\n",
      "Weighted Lateral Neck Flexion https://fitnessprogramer.com/wp-content/uploads/2022/02/Lying-Weighted-Lateral-Neck-Flexion.gif\n",
      "Weighted Lying Neck Extension       https://fitnessprogramer.com/wp-content/uploads/2021/08/Weighted-Lying-Neck-Extension.gif\n",
      "  Weighted Lying Neck Flexion         https://fitnessprogramer.com/wp-content/uploads/2021/08/Weighted-Lying-Neck-Flexion.gif\n",
      "              Gittleson Shrug     https://fitnessprogramer.com/wp-content/uploads/2022/01/Dumbbell-Seated-Gittleson-Shrug.gif\n",
      "        Diagonal Neck Stretch       https://fitnessprogramer.com/wp-content/uploads/2021/07/Diagonal-Neck-Stretch-360x360.png\n",
      "        Neck Rotation Stretch               https://fitnessprogramer.com/wp-content/uploads/2021/07/Rotating-Neck-Stretch.gif\n",
      "         Neck Flexion Stretch        https://fitnessprogramer.com/wp-content/uploads/2021/07/Neck-Flexion-Stretch-360x360.png\n",
      "       Neck Extension Stretch   https://fitnessprogramer.com/wp-content/uploads/2021/07/Neck-Extension-Stretching-360x360.png\n",
      "            Side Neck Stretch                   https://fitnessprogramer.com/wp-content/uploads/2021/06/Side-Neck-Stretch.gif\n",
      "       Side Push Neck Stretch              https://fitnessprogramer.com/wp-content/uploads/2021/06/Side-Push-Neck-Stretch.gif\n"
     ]
    }
   ],
   "source": [
    "# abs exercises\n",
    "scrape('abs')"
   ]
  },
  {
   "cell_type": "code",
   "execution_count": 159,
   "metadata": {},
   "outputs": [
    {
     "name": "stdout",
     "output_type": "stream",
     "text": [
      "                        title                                                                                             src\n",
      "Weighted Lateral Neck Flexion https://fitnessprogramer.com/wp-content/uploads/2022/02/Lying-Weighted-Lateral-Neck-Flexion.gif\n",
      "Weighted Lying Neck Extension       https://fitnessprogramer.com/wp-content/uploads/2021/08/Weighted-Lying-Neck-Extension.gif\n",
      "  Weighted Lying Neck Flexion         https://fitnessprogramer.com/wp-content/uploads/2021/08/Weighted-Lying-Neck-Flexion.gif\n",
      "              Gittleson Shrug     https://fitnessprogramer.com/wp-content/uploads/2022/01/Dumbbell-Seated-Gittleson-Shrug.gif\n",
      "        Diagonal Neck Stretch       https://fitnessprogramer.com/wp-content/uploads/2021/07/Diagonal-Neck-Stretch-360x360.png\n",
      "        Neck Rotation Stretch               https://fitnessprogramer.com/wp-content/uploads/2021/07/Rotating-Neck-Stretch.gif\n",
      "         Neck Flexion Stretch        https://fitnessprogramer.com/wp-content/uploads/2021/07/Neck-Flexion-Stretch-360x360.png\n",
      "       Neck Extension Stretch   https://fitnessprogramer.com/wp-content/uploads/2021/07/Neck-Extension-Stretching-360x360.png\n",
      "            Side Neck Stretch                   https://fitnessprogramer.com/wp-content/uploads/2021/06/Side-Neck-Stretch.gif\n",
      "       Side Push Neck Stretch              https://fitnessprogramer.com/wp-content/uploads/2021/06/Side-Push-Neck-Stretch.gif\n"
     ]
    }
   ],
   "source": [
    "# leg exercises\n",
    "scrape('leg')"
   ]
  },
  {
   "cell_type": "code",
   "execution_count": 160,
   "metadata": {},
   "outputs": [
    {
     "name": "stdout",
     "output_type": "stream",
     "text": [
      "                        title                                                                                             src\n",
      "Weighted Lateral Neck Flexion https://fitnessprogramer.com/wp-content/uploads/2022/02/Lying-Weighted-Lateral-Neck-Flexion.gif\n",
      "Weighted Lying Neck Extension       https://fitnessprogramer.com/wp-content/uploads/2021/08/Weighted-Lying-Neck-Extension.gif\n",
      "  Weighted Lying Neck Flexion         https://fitnessprogramer.com/wp-content/uploads/2021/08/Weighted-Lying-Neck-Flexion.gif\n",
      "              Gittleson Shrug     https://fitnessprogramer.com/wp-content/uploads/2022/01/Dumbbell-Seated-Gittleson-Shrug.gif\n",
      "        Diagonal Neck Stretch       https://fitnessprogramer.com/wp-content/uploads/2021/07/Diagonal-Neck-Stretch-360x360.png\n",
      "        Neck Rotation Stretch               https://fitnessprogramer.com/wp-content/uploads/2021/07/Rotating-Neck-Stretch.gif\n",
      "         Neck Flexion Stretch        https://fitnessprogramer.com/wp-content/uploads/2021/07/Neck-Flexion-Stretch-360x360.png\n",
      "       Neck Extension Stretch   https://fitnessprogramer.com/wp-content/uploads/2021/07/Neck-Extension-Stretching-360x360.png\n",
      "            Side Neck Stretch                   https://fitnessprogramer.com/wp-content/uploads/2021/06/Side-Neck-Stretch.gif\n",
      "       Side Push Neck Stretch              https://fitnessprogramer.com/wp-content/uploads/2021/06/Side-Push-Neck-Stretch.gif\n"
     ]
    }
   ],
   "source": [
    "# calf exercises\n",
    "scrape('calf')"
   ]
  },
  {
   "cell_type": "code",
   "execution_count": 161,
   "metadata": {},
   "outputs": [
    {
     "name": "stdout",
     "output_type": "stream",
     "text": [
      "                        title                                                                                             src\n",
      "Weighted Lateral Neck Flexion https://fitnessprogramer.com/wp-content/uploads/2022/02/Lying-Weighted-Lateral-Neck-Flexion.gif\n",
      "Weighted Lying Neck Extension       https://fitnessprogramer.com/wp-content/uploads/2021/08/Weighted-Lying-Neck-Extension.gif\n",
      "  Weighted Lying Neck Flexion         https://fitnessprogramer.com/wp-content/uploads/2021/08/Weighted-Lying-Neck-Flexion.gif\n",
      "              Gittleson Shrug     https://fitnessprogramer.com/wp-content/uploads/2022/01/Dumbbell-Seated-Gittleson-Shrug.gif\n",
      "        Diagonal Neck Stretch       https://fitnessprogramer.com/wp-content/uploads/2021/07/Diagonal-Neck-Stretch-360x360.png\n",
      "        Neck Rotation Stretch               https://fitnessprogramer.com/wp-content/uploads/2021/07/Rotating-Neck-Stretch.gif\n",
      "         Neck Flexion Stretch        https://fitnessprogramer.com/wp-content/uploads/2021/07/Neck-Flexion-Stretch-360x360.png\n",
      "       Neck Extension Stretch   https://fitnessprogramer.com/wp-content/uploads/2021/07/Neck-Extension-Stretching-360x360.png\n",
      "            Side Neck Stretch                   https://fitnessprogramer.com/wp-content/uploads/2021/06/Side-Neck-Stretch.gif\n",
      "       Side Push Neck Stretch              https://fitnessprogramer.com/wp-content/uploads/2021/06/Side-Push-Neck-Stretch.gif\n"
     ]
    }
   ],
   "source": [
    "# hips exercises\n",
    "scrape('hips')"
   ]
  },
  {
   "cell_type": "code",
   "execution_count": 162,
   "metadata": {},
   "outputs": [
    {
     "name": "stdout",
     "output_type": "stream",
     "text": [
      "                        title                                                                                             src\n",
      "Weighted Lateral Neck Flexion https://fitnessprogramer.com/wp-content/uploads/2022/02/Lying-Weighted-Lateral-Neck-Flexion.gif\n",
      "Weighted Lying Neck Extension       https://fitnessprogramer.com/wp-content/uploads/2021/08/Weighted-Lying-Neck-Extension.gif\n",
      "  Weighted Lying Neck Flexion         https://fitnessprogramer.com/wp-content/uploads/2021/08/Weighted-Lying-Neck-Flexion.gif\n",
      "              Gittleson Shrug     https://fitnessprogramer.com/wp-content/uploads/2022/01/Dumbbell-Seated-Gittleson-Shrug.gif\n",
      "        Diagonal Neck Stretch       https://fitnessprogramer.com/wp-content/uploads/2021/07/Diagonal-Neck-Stretch-360x360.png\n",
      "        Neck Rotation Stretch               https://fitnessprogramer.com/wp-content/uploads/2021/07/Rotating-Neck-Stretch.gif\n",
      "         Neck Flexion Stretch        https://fitnessprogramer.com/wp-content/uploads/2021/07/Neck-Flexion-Stretch-360x360.png\n",
      "       Neck Extension Stretch   https://fitnessprogramer.com/wp-content/uploads/2021/07/Neck-Extension-Stretching-360x360.png\n",
      "            Side Neck Stretch                   https://fitnessprogramer.com/wp-content/uploads/2021/06/Side-Neck-Stretch.gif\n",
      "       Side Push Neck Stretch              https://fitnessprogramer.com/wp-content/uploads/2021/06/Side-Push-Neck-Stretch.gif\n"
     ]
    }
   ],
   "source": [
    "# cardio exercises\n",
    "scrape('cardio')"
   ]
  },
  {
   "cell_type": "code",
   "execution_count": 163,
   "metadata": {},
   "outputs": [
    {
     "name": "stdout",
     "output_type": "stream",
     "text": [
      "                        title                                                                                             src\n",
      "Weighted Lateral Neck Flexion https://fitnessprogramer.com/wp-content/uploads/2022/02/Lying-Weighted-Lateral-Neck-Flexion.gif\n",
      "Weighted Lying Neck Extension       https://fitnessprogramer.com/wp-content/uploads/2021/08/Weighted-Lying-Neck-Extension.gif\n",
      "  Weighted Lying Neck Flexion         https://fitnessprogramer.com/wp-content/uploads/2021/08/Weighted-Lying-Neck-Flexion.gif\n",
      "              Gittleson Shrug     https://fitnessprogramer.com/wp-content/uploads/2022/01/Dumbbell-Seated-Gittleson-Shrug.gif\n",
      "        Diagonal Neck Stretch       https://fitnessprogramer.com/wp-content/uploads/2021/07/Diagonal-Neck-Stretch-360x360.png\n",
      "        Neck Rotation Stretch               https://fitnessprogramer.com/wp-content/uploads/2021/07/Rotating-Neck-Stretch.gif\n",
      "         Neck Flexion Stretch        https://fitnessprogramer.com/wp-content/uploads/2021/07/Neck-Flexion-Stretch-360x360.png\n",
      "       Neck Extension Stretch   https://fitnessprogramer.com/wp-content/uploads/2021/07/Neck-Extension-Stretching-360x360.png\n",
      "            Side Neck Stretch                   https://fitnessprogramer.com/wp-content/uploads/2021/06/Side-Neck-Stretch.gif\n",
      "       Side Push Neck Stretch              https://fitnessprogramer.com/wp-content/uploads/2021/06/Side-Push-Neck-Stretch.gif\n"
     ]
    }
   ],
   "source": [
    "# full-body exercises\n",
    "scrape('full-body')"
   ]
  }
 ],
 "metadata": {
  "kernelspec": {
   "display_name": "scraping_env",
   "language": "python",
   "name": "python3"
  },
  "language_info": {
   "codemirror_mode": {
    "name": "ipython",
    "version": 3
   },
   "file_extension": ".py",
   "mimetype": "text/x-python",
   "name": "python",
   "nbconvert_exporter": "python",
   "pygments_lexer": "ipython3",
   "version": "3.12.3"
  }
 },
 "nbformat": 4,
 "nbformat_minor": 2
}
