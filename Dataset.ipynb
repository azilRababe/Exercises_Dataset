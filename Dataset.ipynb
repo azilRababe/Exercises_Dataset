{
 "cells": [
  {
   "cell_type": "code",
   "execution_count": 31,
   "metadata": {},
   "outputs": [],
   "source": [
    "import requests\n",
    "from bs4 import BeautifulSoup\n",
    "import pandas as pd"
   ]
  },
  {
   "cell_type": "code",
   "execution_count": 32,
   "metadata": {},
   "outputs": [],
   "source": [
    "HEADERS = {\n",
    "    'Accept': '*/*',\n",
    "    'Accept-Encoding': 'gzip, deflate, br, zstd',\n",
    "    'Accept-Language': 'en-US,en;q=0.5',\n",
    "    'User-Agent': 'Mozilla/5.0 (X11; Ubuntu; Linux x86_64; rv:130.0) Gecko/20100101 Firefox/130.0'\n",
    "}"
   ]
  },
  {
   "cell_type": "code",
   "execution_count": 33,
   "metadata": {},
   "outputs": [],
   "source": [
    "def get_content(url):\n",
    "    response = requests.get(url, headers=HEADERS)\n",
    "    if response.status_code == 200:\n",
    "        return BeautifulSoup(response.content, 'lxml')\n",
    "    else:\n",
    "        print(f\"Failed to retrieve the webpage. Status code: {response.status_code}\")\n",
    "        return None"
   ]
  },
  {
   "cell_type": "code",
   "execution_count": 50,
   "metadata": {},
   "outputs": [],
   "source": [
    "\n",
    "def get_url(query,page=1,datalist=[]):\n",
    "    while True:\n",
    "        url=f'https://fitnessprogramer.com/exercise-primary-muscle/{query}/page/{page}/'\n",
    "        # print(f\"Scraping page {page} at URL: {url}\")\n",
    "\n",
    "        gifs = get_content(url).find_all('div', class_='thumbnails')\n",
    "\n",
    "        for gif in gifs:\n",
    "            title = gif.find('img')['alt']\n",
    "            src = gif.find('img')['src']\n",
    "            datalist.append({\n",
    "                'targetMuscle': query,\n",
    "                'title': title,\n",
    "                'src': src\n",
    "            })\n",
    "            \n",
    "        next_page = get_content(url).find('a', class_='next') \n",
    "        if next_page and 'href' in next_page.attrs:\n",
    "            page += 1\n",
    "        else:\n",
    "            # print(\"No more pages to scrape.\")\n",
    "            break       \n",
    "    "
   ]
  },
  {
   "cell_type": "code",
   "execution_count": 62,
   "metadata": {},
   "outputs": [],
   "source": [
    "targetMuscles=['full-body','neck','trapezius','shoulders','chest','back','biceps','triceps','forearm','abs','calf','erector-spinae','leg','hips','cardio']\n",
    "\n",
    "allData=[]\n",
    "for muscle in targetMuscles:\n",
    "    datalist=[]\n",
    "    get_url(muscle,1,datalist=datalist)\n",
    "    allData.extend(datalist)\n",
    "\n",
    "df=pd.DataFrame(allData, columns=['targetMuscle','title','src'],index=None)"
   ]
  },
  {
   "cell_type": "code",
   "execution_count": 64,
   "metadata": {},
   "outputs": [
    {
     "name": "stdout",
     "output_type": "stream",
     "text": [
      "Saved to fitnessprogramer.json\n"
     ]
    }
   ],
   "source": [
    "# df.to_json('data/gifs.json', orient='records') # safe to json file\n",
    "df.to_csv('data/gifs.csv', index=False) # safe to csv file\n",
    "print('Saved to fitnessprogramer.json')"
   ]
  },
  {
   "cell_type": "code",
   "execution_count": null,
   "metadata": {},
   "outputs": [],
   "source": []
  }
 ],
 "metadata": {
  "kernelspec": {
   "display_name": "scraping_env",
   "language": "python",
   "name": "python3"
  },
  "language_info": {
   "codemirror_mode": {
    "name": "ipython",
    "version": 3
   },
   "file_extension": ".py",
   "mimetype": "text/x-python",
   "name": "python",
   "nbconvert_exporter": "python",
   "pygments_lexer": "ipython3",
   "version": "3.12.3"
  }
 },
 "nbformat": 4,
 "nbformat_minor": 2
}
